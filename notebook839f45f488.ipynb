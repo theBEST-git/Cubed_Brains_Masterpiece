{
 "cells": [
  {
   "cell_type": "code",
   "execution_count": null,
   "metadata": {
    "_cell_guid": "b1076dfc-b9ad-4769-8c92-a6c4dae69d19",
    "_uuid": "8f2839f25d086af736a60e9eeb907d3b93b6e0e5",
    "editable": false,
    "trusted": true
   },
   "outputs": [],
   "source": [
    "import numpy as np \n",
    "import pandas as pd \n",
    "import os\n",
    "import matplotlib.pyplot as plt\n",
    "import seaborn as sns\n",
    "from sklearn.preprocessing import PolynomialFeatures, OneHotEncoder\n",
    "from sklearn.compose import ColumnTransformer\n",
    "from sklearn.pipeline import Pipeline\n",
    "from sklearn.linear_model import Ridge\n",
    "from sklearn.metrics import mean_squared_error, r2_score\n",
    "\n",
    "for dirname, _, filenames in os.walk('/kaggle/input'):\n",
    "    for filename in filenames:\n",
    "        print(os.path.join(dirname, filename))"
   ]
  },
  {
   "cell_type": "code",
   "execution_count": null,
   "metadata": {
    "editable": false,
    "execution": {
     "iopub.execute_input": "2025-08-30T23:36:44.607671Z",
     "iopub.status.busy": "2025-08-30T23:36:44.607361Z",
     "iopub.status.idle": "2025-08-30T23:36:44.66881Z",
     "shell.execute_reply": "2025-08-30T23:36:44.668233Z",
     "shell.execute_reply.started": "2025-08-30T23:36:44.607653Z"
    },
    "trusted": true
   },
   "outputs": [
    {
     "name": "stdout",
     "output_type": "stream",
     "text": [
      "Year           int32\n",
      "SkiWeek        int32\n",
      "Resort      category\n",
      "Visitors       int64\n",
      "dtype: object\n",
      "Years span: 2014 → 2024\n",
      "Resorts: ['Charlotte Pass', 'Falls Creek', 'Mt. Baw Baw', 'Mt. Buller', 'Mt. Hotham', 'Perisher', 'Selwyn', 'Thredbo']\n",
      "Categories (8, object): ['Charlotte Pass', 'Falls Creek', 'Mt. Baw Baw', 'Mt. Buller', 'Mt. Hotham', 'Perisher', 'Selwyn', 'Thredbo']\n"
     ]
    },
    {
     "data": {
      "text/html": [
       "<div>\n",
       "<style scoped>\n",
       "    .dataframe tbody tr th:only-of-type {\n",
       "        vertical-align: middle;\n",
       "    }\n",
       "\n",
       "    .dataframe tbody tr th {\n",
       "        vertical-align: top;\n",
       "    }\n",
       "\n",
       "    .dataframe thead th {\n",
       "        text-align: right;\n",
       "    }\n",
       "</style>\n",
       "<table border=\"1\" class=\"dataframe\">\n",
       "  <thead>\n",
       "    <tr style=\"text-align: right;\">\n",
       "      <th></th>\n",
       "      <th>Year</th>\n",
       "      <th>SkiWeek</th>\n",
       "      <th>Resort</th>\n",
       "      <th>Visitors</th>\n",
       "    </tr>\n",
       "  </thead>\n",
       "  <tbody>\n",
       "    <tr>\n",
       "      <th>0</th>\n",
       "      <td>2014</td>\n",
       "      <td>1</td>\n",
       "      <td>Charlotte Pass</td>\n",
       "      <td>408</td>\n",
       "    </tr>\n",
       "    <tr>\n",
       "      <th>1</th>\n",
       "      <td>2014</td>\n",
       "      <td>2</td>\n",
       "      <td>Charlotte Pass</td>\n",
       "      <td>151</td>\n",
       "    </tr>\n",
       "    <tr>\n",
       "      <th>2</th>\n",
       "      <td>2014</td>\n",
       "      <td>3</td>\n",
       "      <td>Charlotte Pass</td>\n",
       "      <td>230</td>\n",
       "    </tr>\n",
       "    <tr>\n",
       "      <th>3</th>\n",
       "      <td>2014</td>\n",
       "      <td>4</td>\n",
       "      <td>Charlotte Pass</td>\n",
       "      <td>1134</td>\n",
       "    </tr>\n",
       "    <tr>\n",
       "      <th>4</th>\n",
       "      <td>2014</td>\n",
       "      <td>5</td>\n",
       "      <td>Charlotte Pass</td>\n",
       "      <td>3403</td>\n",
       "    </tr>\n",
       "  </tbody>\n",
       "</table>\n",
       "</div>"
      ],
      "text/plain": [
       "   Year  SkiWeek          Resort  Visitors\n",
       "0  2014        1  Charlotte Pass       408\n",
       "1  2014        2  Charlotte Pass       151\n",
       "2  2014        3  Charlotte Pass       230\n",
       "3  2014        4  Charlotte Pass      1134\n",
       "4  2014        5  Charlotte Pass      3403"
      ]
     },
     "execution_count": 2,
     "metadata": {},
     "output_type": "execute_result"
    }
   ],
   "source": [
    "FILE = \"Data/Annual_Resort.csv\"\n",
    "df = pd.read_csv(FILE)\n",
    "\n",
    "# Standardize visitor column\n",
    "df = df.rename(columns={\"Maximum temperature (Degree C)\": \"MaxTemp\",\n",
    "                        \"Minimum temperature (Degree C)\": \"MinTemp\",\n",
    "                        \"Rainfall amount (millimetres)\": \"Rainfall\"})\n",
    "\n",
    "df = df[[\"Year\",\"SkiWeek\",\"Resort\",\"Visitors\"]].copy()\n",
    "\n",
    "# Clean types\n",
    "df[\"Year\"] = df[\"Year\"].astype(int)\n",
    "df[\"SkiWeek\"] = df[\"SkiWeek\"].astype(int)\n",
    "df[\"Resort\"] = df[\"Resort\"].astype(\"category\")\n",
    "df[\"Visitors\"] = pd.to_numeric(df[\"Visitors\"], errors=\"coerce\")\n",
    "\n",
    "# Drop bad rows\n",
    "df = df.dropna(subset=[\"Visitors\"])\n",
    "df = df[df[\"Visitors\"] > 0]\n",
    "df = df.sort_values([\"Resort\",\"Year\",\"SkiWeek\"]).reset_index(drop=True)\n",
    "\n",
    "print(df.dtypes)\n",
    "print(\"Years span:\", df[\"Year\"].min(), \"→\", df[\"Year\"].max())\n",
    "print(\"Resorts:\", df[\"Resort\"].unique())\n",
    "df.head()\n"
   ]
  },
  {
   "cell_type": "code",
   "execution_count": null,
   "metadata": {
    "editable": false,
    "execution": {
     "iopub.execute_input": "2025-08-30T23:36:44.669996Z",
     "iopub.status.busy": "2025-08-30T23:36:44.6697Z",
     "iopub.status.idle": "2025-08-30T23:36:44.713348Z",
     "shell.execute_reply": "2025-08-30T23:36:44.712604Z",
     "shell.execute_reply.started": "2025-08-30T23:36:44.669972Z"
    },
    "trusted": true
   },
   "outputs": [
    {
     "name": "stdout",
     "output_type": "stream",
     "text": [
      "Train years: 2014 → 2022\n",
      "Test years : 2023 → 2024\n"
     ]
    },
    {
     "data": {
      "text/html": [
       "<div>\n",
       "<style scoped>\n",
       "    .dataframe tbody tr th:only-of-type {\n",
       "        vertical-align: middle;\n",
       "    }\n",
       "\n",
       "    .dataframe tbody tr th {\n",
       "        vertical-align: top;\n",
       "    }\n",
       "\n",
       "    .dataframe thead th {\n",
       "        text-align: right;\n",
       "    }\n",
       "</style>\n",
       "<table border=\"1\" class=\"dataframe\">\n",
       "  <thead>\n",
       "    <tr style=\"text-align: right;\">\n",
       "      <th></th>\n",
       "      <th>Year</th>\n",
       "      <th>SkiWeek</th>\n",
       "      <th>Resort</th>\n",
       "      <th>Visitors</th>\n",
       "      <th>TimeIndex</th>\n",
       "      <th>sin_w</th>\n",
       "      <th>cos_w</th>\n",
       "    </tr>\n",
       "  </thead>\n",
       "  <tbody>\n",
       "    <tr>\n",
       "      <th>0</th>\n",
       "      <td>2014</td>\n",
       "      <td>1</td>\n",
       "      <td>Charlotte Pass</td>\n",
       "      <td>408</td>\n",
       "      <td>1</td>\n",
       "      <td>0.406737</td>\n",
       "      <td>0.913545</td>\n",
       "    </tr>\n",
       "    <tr>\n",
       "      <th>1</th>\n",
       "      <td>2014</td>\n",
       "      <td>2</td>\n",
       "      <td>Charlotte Pass</td>\n",
       "      <td>151</td>\n",
       "      <td>2</td>\n",
       "      <td>0.743145</td>\n",
       "      <td>0.669131</td>\n",
       "    </tr>\n",
       "    <tr>\n",
       "      <th>2</th>\n",
       "      <td>2014</td>\n",
       "      <td>3</td>\n",
       "      <td>Charlotte Pass</td>\n",
       "      <td>230</td>\n",
       "      <td>3</td>\n",
       "      <td>0.951057</td>\n",
       "      <td>0.309017</td>\n",
       "    </tr>\n",
       "    <tr>\n",
       "      <th>3</th>\n",
       "      <td>2014</td>\n",
       "      <td>4</td>\n",
       "      <td>Charlotte Pass</td>\n",
       "      <td>1134</td>\n",
       "      <td>4</td>\n",
       "      <td>0.994522</td>\n",
       "      <td>-0.104528</td>\n",
       "    </tr>\n",
       "    <tr>\n",
       "      <th>4</th>\n",
       "      <td>2014</td>\n",
       "      <td>5</td>\n",
       "      <td>Charlotte Pass</td>\n",
       "      <td>3403</td>\n",
       "      <td>5</td>\n",
       "      <td>0.866025</td>\n",
       "      <td>-0.500000</td>\n",
       "    </tr>\n",
       "  </tbody>\n",
       "</table>\n",
       "</div>"
      ],
      "text/plain": [
       "   Year  SkiWeek          Resort  Visitors  TimeIndex     sin_w     cos_w\n",
       "0  2014        1  Charlotte Pass       408          1  0.406737  0.913545\n",
       "1  2014        2  Charlotte Pass       151          2  0.743145  0.669131\n",
       "2  2014        3  Charlotte Pass       230          3  0.951057  0.309017\n",
       "3  2014        4  Charlotte Pass      1134          4  0.994522 -0.104528\n",
       "4  2014        5  Charlotte Pass      3403          5  0.866025 -0.500000"
      ]
     },
     "execution_count": 3,
     "metadata": {},
     "output_type": "execute_result"
    }
   ],
   "source": [
    "# Feature engineering + split\n",
    "\n",
    "# continuous time index\n",
    "W = int(df[\"SkiWeek\"].max()) \n",
    "year0 = int(df[\"Year\"].min())  \n",
    "\n",
    "def add_time_features(frame: pd.DataFrame) -> pd.DataFrame:\n",
    "    out = frame.copy()\n",
    "    out[\"TimeIndex\"] = (out[\"Year\"] - year0) * W + out[\"SkiWeek\"]\n",
    "    out[\"sin_w\"] = np.sin(2 * np.pi * out[\"SkiWeek\"] / W)\n",
    "    out[\"cos_w\"] = np.cos(2 * np.pi * out[\"SkiWeek\"] / W)\n",
    "    return out\n",
    "\n",
    "df_f = add_time_features(df)\n",
    "\n",
    "# Train = up to 2022 and Test = 2023–24\n",
    "train = df_f[df_f[\"Year\"] <= 2022].copy()\n",
    "test  = df_f[df_f[\"Year\"] > 2022].copy()\n",
    "\n",
    "print(\"Train years:\", train[\"Year\"].min(), \"→\", train[\"Year\"].max())\n",
    "print(\"Test years :\", test[\"Year\"].min(), \"→\", test[\"Year\"].max())\n",
    "\n",
    "train.head()\n"
   ]
  },
  {
   "cell_type": "code",
   "execution_count": null,
   "metadata": {
    "editable": false,
    "execution": {
     "iopub.execute_input": "2025-08-30T23:36:44.714299Z",
     "iopub.status.busy": "2025-08-30T23:36:44.714084Z",
     "iopub.status.idle": "2025-08-30T23:36:46.138769Z",
     "shell.execute_reply": "2025-08-30T23:36:46.137975Z",
     "shell.execute_reply.started": "2025-08-30T23:36:44.714282Z"
    },
    "trusted": true
   },
   "outputs": [
    {
     "name": "stdout",
     "output_type": "stream",
     "text": [
      "Visitors | RMSE=11928.79 | R2=0.596\n"
     ]
    }
   ],
   "source": [
    "# Model training (only visitors)\n",
    "# Features & target\n",
    "feature_cols = [\"Year\",\"SkiWeek\",\"TimeIndex\",\"sin_w\",\"cos_w\",\"Resort\"]\n",
    "target_col = \"Visitors\"\n",
    "\n",
    "X_train = train[feature_cols]\n",
    "y_train = train[target_col]\n",
    "X_test  = test[feature_cols]\n",
    "y_test  = test[target_col]\n",
    "\n",
    "# Preprocessing: polynomial on numeric, OHE on Resort\n",
    "numeric_cols = [\"Year\",\"SkiWeek\",\"TimeIndex\",\"sin_w\",\"cos_w\"]\n",
    "cat_cols     = [\"Resort\"]\n",
    "\n",
    "pre = ColumnTransformer(\n",
    "    transformers=[\n",
    "        (\"poly\", PolynomialFeatures(degree=2, include_bias=False), numeric_cols),\n",
    "        (\"ohe\", OneHotEncoder(drop=\"first\", handle_unknown=\"ignore\"), cat_cols)\n",
    "    ]\n",
    ")\n",
    "\n",
    "# Model: Ridge regression\n",
    "ridge = Ridge(alpha=3.0, random_state=42)\n",
    "\n",
    "model = Pipeline([\n",
    "    (\"pre\", pre),\n",
    "    (\"ridge\", ridge)\n",
    "])\n",
    "\n",
    "# Fit\n",
    "model.fit(X_train, y_train)\n",
    "\n",
    "# Evaluate on test set (2023–24)\n",
    "y_pred = model.predict(X_test)\n",
    "rmse = np.sqrt(mean_squared_error(y_test, y_pred))\n",
    "r2   = r2_score(y_test, y_pred)\n",
    "print(f\"Visitors | RMSE={rmse:.2f} | R2={r2:.3f}\")\n"
   ]
  },
  {
   "cell_type": "code",
   "execution_count": null,
   "metadata": {
    "editable": false,
    "execution": {
     "iopub.execute_input": "2025-08-30T23:37:45.426427Z",
     "iopub.status.busy": "2025-08-30T23:37:45.425694Z",
     "iopub.status.idle": "2025-08-30T23:37:45.447519Z",
     "shell.execute_reply": "2025-08-30T23:37:45.446945Z",
     "shell.execute_reply.started": "2025-08-30T23:37:45.426398Z"
    },
    "trusted": true
   },
   "outputs": [],
   "source": [
    "# Forecast Visitors 2026\n",
    "\n",
    "resorts = df[\"Resort\"].unique()\n",
    "weeks   = sorted(df[\"SkiWeek\"].unique())\n",
    "\n",
    "future_2026 = pd.DataFrame(\n",
    "    [{\"Year\": 2026, \"SkiWeek\": w, \"Resort\": r} for r in resorts for w in weeks]\n",
    ")\n",
    "\n",
    "future_2026 = add_time_features(future_2026)\n",
    "\n",
    "# predict\n",
    "X_future = future_2026[feature_cols]\n",
    "future_2026[\"Pred_Visitors\"] = np.rint(model.predict(X_future)).astype(int)\n",
    "\n",
    "# save to CSV\n",
    "future_2026.to_csv(\"predicted_visitors_2026.csv\", index=False)\n",
    "print(\" 2026 forecast saved as predicted_visitors_2026.csv\")\n",
    "\n",
    "future_2026.head(12)"
   ]
  },
  {
   "cell_type": "code",
   "execution_count": null,
   "metadata": {
    "editable": false,
    "execution": {
     "iopub.execute_input": "2025-08-30T23:36:46.168893Z",
     "iopub.status.busy": "2025-08-30T23:36:46.168539Z",
     "iopub.status.idle": "2025-08-30T23:36:47.033748Z",
     "shell.execute_reply": "2025-08-30T23:36:47.032989Z",
     "shell.execute_reply.started": "2025-08-30T23:36:46.168857Z"
    },
    "trusted": true
   },
   "outputs": [],
   "source": [
    "# Plot 2026 visitor predictions\n",
    "sns.set(style=\"whitegrid\", palette=\"muted\", font_scale=1.1)\n",
    "\n",
    "plt.figure(figsize=(12,6))\n",
    "sns.lineplot(\n",
    "    data=future_2026,\n",
    "    x=\"SkiWeek\", y=\"Pred_Visitors\", hue=\"Resort\", marker=\"o\"\n",
    ")\n",
    "plt.title(\"Predicted Visitors per Resort — 2026 Ski Season\")\n",
    "plt.ylabel(\"Predicted Visitors\")\n",
    "plt.xlabel(\"Ski Week\")\n",
    "plt.legend(title=\"Resort\", bbox_to_anchor=(1.05, 1), loc=\"upper left\")\n",
    "plt.tight_layout()\n",
    "plt.show()\n"
   ]
  },
  {
   "cell_type": "code",
   "execution_count": null,
   "metadata": {
    "editable": false,
    "execution": {
     "iopub.execute_input": "2025-08-30T23:40:56.724401Z",
     "iopub.status.busy": "2025-08-30T23:40:56.72412Z",
     "iopub.status.idle": "2025-08-30T23:40:56.73557Z",
     "shell.execute_reply": "2025-08-30T23:40:56.734802Z",
     "shell.execute_reply.started": "2025-08-30T23:40:56.724384Z"
    },
    "trusted": true
   },
   "outputs": [],
   "source": [
    "from sklearn.metrics import mean_squared_error, mean_absolute_error, r2_score\n",
    "import numpy as np\n",
    "\n",
    "# Predictions\n",
    "y_pred = model.predict(X_test)\n",
    "\n",
    "# Metrics\n",
    "r2   = r2_score(y_test, y_pred)\n",
    "rmse = np.sqrt(mean_squared_error(y_test, y_pred))\n",
    "mae  = mean_absolute_error(y_test, y_pred)\n",
    "\n",
    "print(\"=== Visitor Prediction Validity Metrics (Test: 2023–24) ===\")\n",
    "print(f\"R²   : {r2:.3f}\")\n",
    "print(f\"RMSE : {rmse:.2f} visitors\")\n",
    "print(f\"MAE  : {mae:.2f} visitors\")"
   ]
  },
  {
   "cell_type": "markdown",
   "metadata": {
    "editable": false
   },
   "source": [
    "## Method  \n",
    "- Cleaned data (removed bad rows, zero visitors).  \n",
    "- Added **TimeIndex** (trend) + **seasonal features** (sin/cos of week).  \n",
    "- Model: **Ridge regression** (good for extrapolation).  \n",
    "- Train on ≤2022, test on 2023–24.  \n",
    "\n",
    "---\n",
    "\n",
    "## Model Performance (2023–24 test)  \n",
    "- **R² = 0.60**  \n",
    "- **RMSE ≈ 11.9k visitors**  \n",
    "- **MAE ≈ 9.4k visitors**  \n",
    "Captures season shape well, less accurate in small/edge weeks.  \n"
   ]
  }
 ],
 "metadata": {
  "kaggle": {
   "accelerator": "gpu",
   "dataSources": [
    {
     "datasetId": 8173712,
     "sourceId": 12917619,
     "sourceType": "datasetVersion"
    }
   ],
   "dockerImageVersionId": 31089,
   "isGpuEnabled": true,
   "isInternetEnabled": false,
   "language": "python",
   "sourceType": "notebook"
  },
  "kernelspec": {
   "display_name": "Python 3",
   "language": "python",
   "name": "python3"
  },
  "language_info": {
   "codemirror_mode": {
    "name": "ipython",
    "version": 3
   },
   "file_extension": ".py",
   "mimetype": "text/x-python",
   "name": "python",
   "nbconvert_exporter": "python",
   "pygments_lexer": "ipython3",
   "version": "3.10.12"
  }
 },
 "nbformat": 4,
 "nbformat_minor": 4
}
