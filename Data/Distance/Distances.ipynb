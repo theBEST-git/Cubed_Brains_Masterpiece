{
 "cells": [
  {
   "cell_type": "code",
   "execution_count": 4,
   "id": "c885461d",
   "metadata": {},
   "outputs": [],
   "source": [
    "import pandas as pd\n",
    "\n",
    "# Distance data (in km) to Mount Hotham\n",
    "data = {\n",
    "    'City': ['Melbourne', 'Canberra', 'Sydney', 'Bendigo'],\n",
    "    'Mount_Hotham_km': [358, 495, 695, 365],\n",
    "    'Mount_Baw_Baw_km': [96, 584, 861, 209],\n",
    "    'Falls_Creek_km': [381, 471, 671, 350],\n",
    "    'Mount_Buller_km': [236, 553, 772, 252],\n",
    "    'Selwyn_km': [500, 200, 500, 500],\n",
    "    'Thredbo_km': [550, 215, 495, 505],\n",
    "    'Perisher_km': [560, 215, 495, 505],\n",
    "    'Charlotte_Pass_km': [570, 215, 495, 505],\n",
    "    'Stirling_km': [550, 215, 495, 505],\n",
    "}\n",
    "\n",
    "# Create DataFrame\n",
    "df = pd.DataFrame(data)\n",
    "\n",
    "# Save to CSV\n",
    "df.to_csv('distances_to_mount_hotham.csv', index=False)"
   ]
  }
 ],
 "metadata": {
  "kernelspec": {
   "display_name": "Python 3",
   "language": "python",
   "name": "python3"
  },
  "language_info": {
   "codemirror_mode": {
    "name": "ipython",
    "version": 3
   },
   "file_extension": ".py",
   "mimetype": "text/x-python",
   "name": "python",
   "nbconvert_exporter": "python",
   "pygments_lexer": "ipython3",
   "version": "3.10.12"
  }
 },
 "nbformat": 4,
 "nbformat_minor": 5
}
